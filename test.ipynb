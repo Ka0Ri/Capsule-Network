{
 "cells": [
  {
   "cell_type": "code",
   "execution_count": 1,
   "metadata": {},
   "outputs": [
    {
     "name": "stderr",
     "output_type": "stream",
     "text": [
      "/home/vips/anaconda3/envs/Capsule/lib/python3.9/site-packages/tqdm/auto.py:21: TqdmWarning: IProgress not found. Please update jupyter and ipywidgets. See https://ipywidgets.readthedocs.io/en/stable/user_install.html\n",
      "  from .autonotebook import tqdm as notebook_tqdm\n"
     ]
    }
   ],
   "source": [
    "from new_Capsule.Model import CapNets\n",
    "import torch"
   ]
  },
  {
   "cell_type": "code",
   "execution_count": 6,
   "metadata": {},
   "outputs": [
    {
     "name": "stdout",
     "output_type": "stream",
     "text": [
      "torch.Size([2, 64, 10, 10])\n",
      "torch.Size([2, 32, 16, 3, 3]) torch.Size([2, 32, 3, 3])\n",
      "torch.Size([2, 10, 16]) torch.Size([2, 10])\n",
      "torch.Size([2, 10])\n",
      "torch.Size([2, 1, 40, 40])\n"
     ]
    }
   ],
   "source": [
    "architect_settings = {\n",
    "    \"name\": \"convcaps\",\n",
    "    \"reconstructed\": True,\n",
    "    \"n_cls\": 10,\n",
    "    \"convs\": {\n",
    "            \"channels\": [1, 64],\n",
    "            \"k\": 4,\n",
    "            \"s\": 4,\n",
    "            \"p\": 0},\n",
    "    \"primay_caps\": {\n",
    "            \"channels\": [64, 32],\n",
    "            \"k\": 3,\n",
    "            \"s\": 3,\n",
    "            \"p\": 0},\n",
    "    \"caps\": {\n",
    "            \"init\": \"noisy_identity\",\n",
    "            \"cap_dims\": 4,\n",
    "            \"channels\": [32, 10],\n",
    "            \"k\": 3,\n",
    "            \"s\": 1,\n",
    "            \"p\": 0,\n",
    "            \"routing\": {\n",
    "                \"type\": \"dynamic\",\n",
    "                \"params\" : [10]}}\n",
    "    }\n",
    "# model = ConvNeuralNet(model_configs=architect_settings).cuda()\n",
    "model = CapNets(model_configs=architect_settings).cuda()\n",
    "input_tensor = torch.rand(2, 1, 40, 40).cuda()\n",
    "y = torch.tensor([2, 4]).cuda()\n",
    "a, re = model(input_tensor, y)\n",
    "print(a.shape)\n",
    "print(re.shape)"
   ]
  }
 ],
 "metadata": {
  "kernelspec": {
   "display_name": "Capsule",
   "language": "python",
   "name": "python3"
  },
  "language_info": {
   "codemirror_mode": {
    "name": "ipython",
    "version": 3
   },
   "file_extension": ".py",
   "mimetype": "text/x-python",
   "name": "python",
   "nbconvert_exporter": "python",
   "pygments_lexer": "ipython3",
   "version": "3.9.16"
  },
  "orig_nbformat": 4
 },
 "nbformat": 4,
 "nbformat_minor": 2
}
