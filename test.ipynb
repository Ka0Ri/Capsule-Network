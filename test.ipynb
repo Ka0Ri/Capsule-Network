{
 "cells": [
  {
   "cell_type": "code",
   "execution_count": null,
   "metadata": {},
   "outputs": [],
   "source": [
    "from Capsule.Layer.CapsuleLayer import CapsuleRouting\n",
    "import torch\n",
    "routing = CapsuleRouting(mode='em')\n",
    "\n",
    "v = torch.rand(2, 8, 10, 16, 1, 1)\n",
    "a = torch.rand(2, 8, 1, 1)\n",
    "v, a = routing(v, a)\n",
    "print(a)"
   ]
  },
  {
   "cell_type": "code",
   "execution_count": null,
   "metadata": {},
   "outputs": [],
   "source": [
    "from Capsule.Layer.CapsuleLayer import AdaptiveCapsuleHead\n",
    "import torch\n",
    "\n",
    "model = AdaptiveCapsuleHead(32, 10, 4, 1, False, *[\"dynamic\", 10, 1.5])\n",
    "v = torch.rand(2, 32, 5, 5)\n",
    "\n",
    "out, v = model(v, get_capsules=True)\n",
    "print(v.shape)\n",
    "print(v)"
   ]
  },
  {
   "cell_type": "code",
   "execution_count": null,
   "metadata": {},
   "outputs": [],
   "source": [
    "import yaml\n",
    "import torch\n",
    "from Capsule.Layer.Classifier import CapsuleWrappingClassifier\n",
    "with open('config/new-config.yml', 'r') as stream:\n",
    "    PARAMS = yaml.safe_load(stream)\n",
    "    print(PARAMS)\n",
    "model = CapsuleWrappingClassifier(model_configs=PARAMS['architect_settings'])\n",
    "\n",
    "img = torch.rand(2, 3, 224, 224)\n",
    "\n",
    "out = model(img)\n",
    "print(out.shape)\n",
    "print(out)"
   ]
  },
  {
   "cell_type": "code",
   "execution_count": null,
   "metadata": {},
   "outputs": [],
   "source": [
    "from Capsule.ultis import Cub2011\n",
    "from matplotlib import pyplot as plt\n",
    "from torchvision.transforms import ToPILImage\n",
    "dataset = Cub2011(mode='test', data_path='data/CUB_200_2011', transform=None)\n",
    "\n",
    "img, label, oimg = dataset[10]\n",
    "print(label)\n",
    "plt.imshow(ToPILImage()(oimg))\n",
    "plt.show()"
   ]
  },
  {
   "cell_type": "code",
   "execution_count": null,
   "metadata": {},
   "outputs": [],
   "source": [
    "import numpy as np\n",
    "a = np.arange(60.).reshape(3,4,5)\n",
    "b = np.arange(24.).reshape(4,3,2)\n",
    "print(a)\n",
    "print(b)\n",
    "np.einsum('ijk,jil->kl', a, b)"
   ]
  },
  {
   "cell_type": "code",
   "execution_count": null,
   "metadata": {},
   "outputs": [],
   "source": [
    "import torch\n",
    "A = torch.rand(2, 15, 4, 4, 3, 3)\n",
    "B = torch.rand(15, 4, 4, 8)\n",
    "v = torch.einsum('bBijHW, BjkC -> bBCikHW', A, B)\n",
    "print(v.shape)"
   ]
  },
  {
   "attachments": {},
   "cell_type": "markdown",
   "metadata": {},
   "source": [
    "## Linear Classifier"
   ]
  },
  {
   "cell_type": "code",
   "execution_count": null,
   "metadata": {},
   "outputs": [],
   "source": [
    "PARAMS =  {\n",
    "    \"architect_settings\" : {\n",
    "            \"task\": \"None\",\n",
    "            \"name\": \"model-test\",\n",
    "            \"backbone\": {\n",
    "                    \"name\": \"resnet-s\",\n",
    "                    \"is_full\": False,\n",
    "                    \"is_pretrained\": True,\n",
    "                    \"is_freeze\": True, \n",
    "            },\n",
    "            \"n_cls\": 2,\n",
    "            \"is_caps\": False,\n",
    "            \"caps\":{\n",
    "                \"mode\": 1,\n",
    "                \"cap_dims\": 4,\n",
    "                \"routing\":{\n",
    "                        \"type\": \"dynamic\",\n",
    "                        \"params\": [3, 0.01, 1.5]\n",
    "                    }\n",
    "                }\n",
    "            },\n",
    "    \"dataset_settings\": {\n",
    "            \n",
    "            },\n",
    "    \"training_settings\":{\n",
    "    \n",
    "    }\n",
    "}\n",
    "\n",
    "from Capsule.Layer.Classifier import CapsuleWrappingClassifier\n",
    "from Capsule.ultis import Cub2011\n",
    "from torch.utils.data import DataLoader\n",
    "import torch.nn.functional as F\n",
    "import h5py\n",
    "import numpy as np\n",
    "\n",
    "model = CapsuleWrappingClassifier(model_configs=PARAMS[\"architect_settings\"])\n",
    "model.eval()\n",
    "\n",
    "def get_train_data(model, dataloder):\n",
    "    train_data = []\n",
    "    train_label = []    \n",
    "    for batch in dataloder:\n",
    "        img, label, oimg = batch\n",
    "        feats = model.backbone(img)\n",
    "        out = feats.reshape(-1, 512, 7, 7)\n",
    "        train_data.append(out.detach().numpy())\n",
    "        train_label.append(label.detach().numpy())\n",
    "\n",
    "    train_data = np.concatenate(train_data, axis=0)\n",
    "    train_label = np.concatenate(train_label, axis=0)\n",
    "    print(train_data.shape)\n",
    "    print(train_label.shape)\n",
    "    return train_data, train_label\n",
    "    "
   ]
  },
  {
   "cell_type": "code",
   "execution_count": null,
   "metadata": {},
   "outputs": [],
   "source": [
    "dataset = Cub2011(mode=\"train\", data_path=\"data/CUB_200_2011\")\n",
    "dataloder = DataLoader(dataset, batch_size=64, shuffle=False, num_workers=4)\n",
    "\n",
    "train_data, train_label = get_train_data(model, dataloder)\n",
    "\n",
    "hf = h5py.File('train_data.h5', 'w')\n",
    "hf.create_dataset('data', data=train_data)\n",
    "hf.create_dataset('label', data=train_label)\n",
    "hf.close()"
   ]
  },
  {
   "cell_type": "code",
   "execution_count": null,
   "metadata": {},
   "outputs": [],
   "source": [
    "dataset = Cub2011(mode=\"test\", data_path=\"data/CUB_200_2011\")\n",
    "dataloder = DataLoader(dataset, batch_size=64, shuffle=False, num_workers=4)\n",
    "\n",
    "test_data, test_label = get_train_data(model, dataloder)\n",
    "\n",
    "hf = h5py.File('test_data.h5', 'w')\n",
    "hf.create_dataset('data', data=test_data)\n",
    "hf.create_dataset('label', data=test_label)\n",
    "hf.close()"
   ]
  },
  {
   "cell_type": "code",
   "execution_count": null,
   "metadata": {},
   "outputs": [],
   "source": [
    "hf = h5py.File('data/CUB_ResNet_train_data.h5', 'r')\n",
    "train_data = hf['data']\n",
    "train_label = hf['label']\n",
    "hf.close()\n",
    "print(train_data)"
   ]
  },
  {
   "cell_type": "code",
   "execution_count": null,
   "metadata": {},
   "outputs": [],
   "source": [
    "from sklearn.svm import SVC\n",
    "from sklearn.metrics import accuracy_score\n",
    "import h5py\n",
    "\n",
    "hf = h5py.File('data/CUB_ResNet_train_data.h5', 'r')\n",
    "train_data = np.array(hf['data'])\n",
    "train_label = np.array(hf['label'])\n",
    "hf.close()\n",
    "hf = h5py.File('data/CUB_ResNet_test_data.h5', 'r')\n",
    "test_data = np.array(hf['data'])\n",
    "test_label = np.array(hf['label'])\n",
    "hf.close()\n",
    "\n",
    "train_data = np.mean(train_data, axis=(2, 3))\n",
    "test_data = np.mean(test_data, axis=(2, 3))\n",
    "\n",
    "#scikit-learn MLPClassifier on train_data, train_label\n",
    "from sklearn.neural_network import MLPClassifier\n",
    "clf = MLPClassifier(hidden_layer_sizes=(512, 512), max_iter=1000)\n",
    "clf.fit(train_data, train_label)\n",
    "accuracy_score(clf.predict(test_data), test_label)"
   ]
  },
  {
   "cell_type": "code",
   "execution_count": null,
   "metadata": {},
   "outputs": [],
   "source": [
    "from sklearn.svm import SVC\n",
    "from sklearn.metrics import accuracy_score\n",
    "\n",
    "clf = SVC(kernel='rbf')\n",
    "clf.fit(train_data, train_label)\n",
    "accuracy_score(clf.predict(train_data), train_label)\n",
    "accuracy_score(clf.predict(test_data), test_label)"
   ]
  },
  {
   "cell_type": "code",
   "execution_count": 2,
   "metadata": {},
   "outputs": [],
   "source": [
    "from torch.utils.data import TensorDataset\n",
    "from torch.utils.data import DataLoader\n",
    "import torch\n",
    "import h5py\n",
    "import numpy as np\n",
    "\n",
    "hf = h5py.File('data/CUB_ResNet_train_data.h5', 'r')\n",
    "train_data = np.array(hf['data'])\n",
    "train_label = np.array(hf['label'])\n",
    "hf.close()\n",
    "\n",
    "tensor_x = torch.Tensor(train_data) # transform to torch tensor\n",
    "tensor_y = torch.Tensor(train_label)\n",
    "my_dataset = TensorDataset(tensor_x,tensor_y)\n",
    "train_loader = DataLoader(my_dataset, batch_size=32, shuffle=True)"
   ]
  },
  {
   "cell_type": "code",
   "execution_count": 3,
   "metadata": {},
   "outputs": [],
   "source": [
    "hf = h5py.File('data/CUB_ResNet_test_data.h5', 'r')\n",
    "test_data = np.array(hf['data'])\n",
    "test_label = np.array(hf['label'])\n",
    "hf.close()\n",
    "\n",
    "tensor_x = torch.Tensor(test_data) # transform to torch tensor\n",
    "tensor_y = torch.Tensor(test_label)\n",
    "my_val_dataset = TensorDataset(tensor_x,tensor_y)\n",
    "valid_loader = DataLoader(my_val_dataset, batch_size=32, shuffle=True)"
   ]
  },
  {
   "cell_type": "code",
   "execution_count": 4,
   "metadata": {},
   "outputs": [
    {
     "name": "stdout",
     "output_type": "stream",
     "text": [
      "cuda:1\n"
     ]
    },
    {
     "name": "stderr",
     "output_type": "stream",
     "text": [
      "Epoch 1/ 100 - Training: 100%|██████████| 188/188 [00:02<00:00, 62.89it/s]\n",
      "Epoch 1/ 100 - Validation: 100%|██████████| 182/182 [00:00<00:00, 466.30it/s]\n"
     ]
    },
    {
     "name": "stdout",
     "output_type": "stream",
     "text": [
      "\n",
      "Epoch 1/100\n",
      "Train Loss: 5.0570 | Train Accuracy: 4.45%\n",
      "Valid Loss: 4.7629 | Valid Accuracy: 10.13%\n"
     ]
    },
    {
     "name": "stderr",
     "output_type": "stream",
     "text": [
      "Epoch 2/ 100 - Training: 100%|██████████| 188/188 [00:01<00:00, 96.87it/s]\n",
      "Epoch 2/ 100 - Validation: 100%|██████████| 182/182 [00:00<00:00, 468.07it/s]\n"
     ]
    },
    {
     "name": "stdout",
     "output_type": "stream",
     "text": [
      "\n",
      "Epoch 2/100\n",
      "Train Loss: 4.5052 | Train Accuracy: 14.21%\n",
      "Valid Loss: 4.3443 | Valid Accuracy: 16.95%\n"
     ]
    },
    {
     "name": "stderr",
     "output_type": "stream",
     "text": [
      "Epoch 3/ 100 - Training: 100%|██████████| 188/188 [00:01<00:00, 97.38it/s]\n",
      "Epoch 3/ 100 - Validation: 100%|██████████| 182/182 [00:00<00:00, 467.30it/s]\n"
     ]
    },
    {
     "name": "stdout",
     "output_type": "stream",
     "text": [
      "\n",
      "Epoch 3/100\n",
      "Train Loss: 4.0510 | Train Accuracy: 20.97%\n",
      "Valid Loss: 3.9466 | Valid Accuracy: 20.62%\n"
     ]
    },
    {
     "name": "stderr",
     "output_type": "stream",
     "text": [
      "Epoch 4/ 100 - Training: 100%|██████████| 188/188 [00:01<00:00, 96.90it/s]\n",
      "Epoch 4/ 100 - Validation: 100%|██████████| 182/182 [00:00<00:00, 469.71it/s]\n"
     ]
    },
    {
     "name": "stdout",
     "output_type": "stream",
     "text": [
      "\n",
      "Epoch 4/100\n",
      "Train Loss: 3.6044 | Train Accuracy: 25.53%\n",
      "Valid Loss: 3.5604 | Valid Accuracy: 23.82%\n"
     ]
    },
    {
     "name": "stderr",
     "output_type": "stream",
     "text": [
      "Epoch 5/ 100 - Training: 100%|██████████| 188/188 [00:01<00:00, 97.02it/s]\n",
      "Epoch 5/ 100 - Validation: 100%|██████████| 182/182 [00:00<00:00, 471.46it/s]\n"
     ]
    },
    {
     "name": "stdout",
     "output_type": "stream",
     "text": [
      "\n",
      "Epoch 5/100\n",
      "Train Loss: 3.1246 | Train Accuracy: 31.73%\n",
      "Valid Loss: 3.1483 | Valid Accuracy: 28.20%\n"
     ]
    },
    {
     "name": "stderr",
     "output_type": "stream",
     "text": [
      "Epoch 6/ 100 - Training: 100%|██████████| 188/188 [00:01<00:00, 97.44it/s]\n",
      "Epoch 6/ 100 - Validation: 100%|██████████| 182/182 [00:00<00:00, 470.28it/s]\n"
     ]
    },
    {
     "name": "stdout",
     "output_type": "stream",
     "text": [
      "\n",
      "Epoch 6/100\n",
      "Train Loss: 2.6308 | Train Accuracy: 41.19%\n",
      "Valid Loss: 2.8045 | Valid Accuracy: 36.83%\n"
     ]
    },
    {
     "name": "stderr",
     "output_type": "stream",
     "text": [
      "Epoch 7/ 100 - Training: 100%|██████████| 188/188 [00:01<00:00, 96.52it/s]\n",
      "Epoch 7/ 100 - Validation: 100%|██████████| 182/182 [00:00<00:00, 469.85it/s]\n"
     ]
    },
    {
     "name": "stdout",
     "output_type": "stream",
     "text": [
      "\n",
      "Epoch 7/100\n",
      "Train Loss: 2.1984 | Train Accuracy: 50.52%\n",
      "Valid Loss: 2.5611 | Valid Accuracy: 40.42%\n"
     ]
    },
    {
     "name": "stderr",
     "output_type": "stream",
     "text": [
      "Epoch 8/ 100 - Training: 100%|██████████| 188/188 [00:01<00:00, 97.34it/s]\n",
      "Epoch 8/ 100 - Validation: 100%|██████████| 182/182 [00:00<00:00, 469.09it/s]\n"
     ]
    },
    {
     "name": "stdout",
     "output_type": "stream",
     "text": [
      "\n",
      "Epoch 8/100\n",
      "Train Loss: 1.8945 | Train Accuracy: 57.44%\n",
      "Valid Loss: 2.4581 | Valid Accuracy: 42.72%\n"
     ]
    },
    {
     "name": "stderr",
     "output_type": "stream",
     "text": [
      "Epoch 9/ 100 - Training: 100%|██████████| 188/188 [00:01<00:00, 97.10it/s]\n",
      "Epoch 9/ 100 - Validation: 100%|██████████| 182/182 [00:00<00:00, 471.97it/s]\n"
     ]
    },
    {
     "name": "stdout",
     "output_type": "stream",
     "text": [
      "\n",
      "Epoch 9/100\n",
      "Train Loss: 1.6596 | Train Accuracy: 63.58%\n",
      "Valid Loss: 2.3144 | Valid Accuracy: 46.55%\n"
     ]
    },
    {
     "name": "stderr",
     "output_type": "stream",
     "text": [
      "Epoch 10/ 100 - Training: 100%|██████████| 188/188 [00:01<00:00, 96.36it/s]\n",
      "Epoch 10/ 100 - Validation: 100%|██████████| 182/182 [00:00<00:00, 469.82it/s]\n"
     ]
    },
    {
     "name": "stdout",
     "output_type": "stream",
     "text": [
      "\n",
      "Epoch 10/100\n",
      "Train Loss: 1.4800 | Train Accuracy: 68.13%\n",
      "Valid Loss: 2.2827 | Valid Accuracy: 46.96%\n"
     ]
    },
    {
     "name": "stderr",
     "output_type": "stream",
     "text": [
      "Epoch 11/ 100 - Training: 100%|██████████| 188/188 [00:01<00:00, 96.99it/s]\n",
      "Epoch 11/ 100 - Validation: 100%|██████████| 182/182 [00:00<00:00, 469.09it/s]\n"
     ]
    },
    {
     "name": "stdout",
     "output_type": "stream",
     "text": [
      "\n",
      "Epoch 11/100\n",
      "Train Loss: 1.3517 | Train Accuracy: 70.70%\n",
      "Valid Loss: 2.2487 | Valid Accuracy: 48.76%\n"
     ]
    },
    {
     "name": "stderr",
     "output_type": "stream",
     "text": [
      "Epoch 12/ 100 - Training: 100%|██████████| 188/188 [00:01<00:00, 96.82it/s]\n",
      "Epoch 12/ 100 - Validation: 100%|██████████| 182/182 [00:00<00:00, 473.98it/s]\n"
     ]
    },
    {
     "name": "stdout",
     "output_type": "stream",
     "text": [
      "\n",
      "Epoch 12/100\n",
      "Train Loss: 1.2091 | Train Accuracy: 75.18%\n",
      "Valid Loss: 2.2540 | Valid Accuracy: 48.34%\n"
     ]
    },
    {
     "name": "stderr",
     "output_type": "stream",
     "text": [
      "Epoch 13/ 100 - Training: 100%|██████████| 188/188 [00:01<00:00, 96.62it/s]\n",
      "Epoch 13/ 100 - Validation: 100%|██████████| 182/182 [00:00<00:00, 468.58it/s]\n"
     ]
    },
    {
     "name": "stdout",
     "output_type": "stream",
     "text": [
      "\n",
      "Epoch 13/100\n",
      "Train Loss: 1.1288 | Train Accuracy: 77.21%\n",
      "Valid Loss: 2.2475 | Valid Accuracy: 49.45%\n"
     ]
    },
    {
     "name": "stderr",
     "output_type": "stream",
     "text": [
      "Epoch 14/ 100 - Training: 100%|██████████| 188/188 [00:01<00:00, 99.61it/s] \n",
      "Epoch 14/ 100 - Validation: 100%|██████████| 182/182 [00:00<00:00, 468.64it/s]\n"
     ]
    },
    {
     "name": "stdout",
     "output_type": "stream",
     "text": [
      "\n",
      "Epoch 14/100\n",
      "Train Loss: 1.0526 | Train Accuracy: 80.03%\n",
      "Valid Loss: 2.2803 | Valid Accuracy: 49.48%\n"
     ]
    },
    {
     "name": "stderr",
     "output_type": "stream",
     "text": [
      "Epoch 15/ 100 - Training: 100%|██████████| 188/188 [00:01<00:00, 103.18it/s]\n",
      "Epoch 15/ 100 - Validation: 100%|██████████| 182/182 [00:00<00:00, 469.76it/s]\n"
     ]
    },
    {
     "name": "stdout",
     "output_type": "stream",
     "text": [
      "\n",
      "Epoch 15/100\n",
      "Train Loss: 0.9708 | Train Accuracy: 81.51%\n",
      "Valid Loss: 2.1980 | Valid Accuracy: 50.69%\n"
     ]
    },
    {
     "name": "stderr",
     "output_type": "stream",
     "text": [
      "Epoch 16/ 100 - Training: 100%|██████████| 188/188 [00:01<00:00, 97.25it/s]\n",
      "Epoch 16/ 100 - Validation: 100%|██████████| 182/182 [00:00<00:00, 468.60it/s]\n"
     ]
    },
    {
     "name": "stdout",
     "output_type": "stream",
     "text": [
      "\n",
      "Epoch 16/100\n",
      "Train Loss: 0.9240 | Train Accuracy: 82.87%\n",
      "Valid Loss: 2.2732 | Valid Accuracy: 50.12%\n"
     ]
    },
    {
     "name": "stderr",
     "output_type": "stream",
     "text": [
      "Epoch 17/ 100 - Training: 100%|██████████| 188/188 [00:01<00:00, 97.06it/s]\n",
      "Epoch 17/ 100 - Validation: 100%|██████████| 182/182 [00:00<00:00, 468.19it/s]\n"
     ]
    },
    {
     "name": "stdout",
     "output_type": "stream",
     "text": [
      "\n",
      "Epoch 17/100\n",
      "Train Loss: 0.8627 | Train Accuracy: 84.55%\n",
      "Valid Loss: 2.2797 | Valid Accuracy: 51.10%\n"
     ]
    },
    {
     "name": "stderr",
     "output_type": "stream",
     "text": [
      "Epoch 18/ 100 - Training: 100%|██████████| 188/188 [00:01<00:00, 96.51it/s]\n",
      "Epoch 18/ 100 - Validation: 100%|██████████| 182/182 [00:00<00:00, 468.98it/s]\n"
     ]
    },
    {
     "name": "stdout",
     "output_type": "stream",
     "text": [
      "\n",
      "Epoch 18/100\n",
      "Train Loss: 0.8045 | Train Accuracy: 86.25%\n",
      "Valid Loss: 2.2534 | Valid Accuracy: 51.79%\n"
     ]
    },
    {
     "name": "stderr",
     "output_type": "stream",
     "text": [
      "Epoch 19/ 100 - Training: 100%|██████████| 188/188 [00:01<00:00, 96.84it/s]\n",
      "Epoch 19/ 100 - Validation: 100%|██████████| 182/182 [00:00<00:00, 470.48it/s]\n"
     ]
    },
    {
     "name": "stdout",
     "output_type": "stream",
     "text": [
      "\n",
      "Epoch 19/100\n",
      "Train Loss: 0.7509 | Train Accuracy: 87.95%\n",
      "Valid Loss: 2.3044 | Valid Accuracy: 51.76%\n"
     ]
    },
    {
     "name": "stderr",
     "output_type": "stream",
     "text": [
      "Epoch 20/ 100 - Training: 100%|██████████| 188/188 [00:01<00:00, 97.15it/s]\n",
      "Epoch 20/ 100 - Validation: 100%|██████████| 182/182 [00:00<00:00, 472.34it/s]\n"
     ]
    },
    {
     "name": "stdout",
     "output_type": "stream",
     "text": [
      "\n",
      "Epoch 20/100\n",
      "Train Loss: 0.7157 | Train Accuracy: 88.64%\n",
      "Valid Loss: 2.2568 | Valid Accuracy: 52.26%\n"
     ]
    },
    {
     "name": "stderr",
     "output_type": "stream",
     "text": [
      "Epoch 21/ 100 - Training: 100%|██████████| 188/188 [00:01<00:00, 96.53it/s]\n",
      "Epoch 21/ 100 - Validation: 100%|██████████| 182/182 [00:00<00:00, 468.84it/s]\n"
     ]
    },
    {
     "name": "stdout",
     "output_type": "stream",
     "text": [
      "\n",
      "Epoch 21/100\n",
      "Train Loss: 0.6705 | Train Accuracy: 90.21%\n",
      "Valid Loss: 2.2854 | Valid Accuracy: 50.91%\n"
     ]
    },
    {
     "name": "stderr",
     "output_type": "stream",
     "text": [
      "Epoch 22/ 100 - Training: 100%|██████████| 188/188 [00:01<00:00, 97.01it/s]\n",
      "Epoch 22/ 100 - Validation: 100%|██████████| 182/182 [00:00<00:00, 471.05it/s]\n"
     ]
    },
    {
     "name": "stdout",
     "output_type": "stream",
     "text": [
      "\n",
      "Epoch 22/100\n",
      "Train Loss: 0.6516 | Train Accuracy: 90.04%\n",
      "Valid Loss: 2.3084 | Valid Accuracy: 52.40%\n"
     ]
    },
    {
     "name": "stderr",
     "output_type": "stream",
     "text": [
      "Epoch 23/ 100 - Training: 100%|██████████| 188/188 [00:01<00:00, 96.63it/s]\n",
      "Epoch 23/ 100 - Validation: 100%|██████████| 182/182 [00:00<00:00, 474.27it/s]\n"
     ]
    },
    {
     "name": "stdout",
     "output_type": "stream",
     "text": [
      "\n",
      "Epoch 23/100\n",
      "Train Loss: 0.5993 | Train Accuracy: 92.06%\n",
      "Valid Loss: 2.3639 | Valid Accuracy: 51.43%\n"
     ]
    },
    {
     "name": "stderr",
     "output_type": "stream",
     "text": [
      "Epoch 24/ 100 - Training: 100%|██████████| 188/188 [00:01<00:00, 96.57it/s]\n",
      "Epoch 24/ 100 - Validation: 100%|██████████| 182/182 [00:00<00:00, 469.83it/s]\n"
     ]
    },
    {
     "name": "stdout",
     "output_type": "stream",
     "text": [
      "\n",
      "Epoch 24/100\n",
      "Train Loss: 0.5648 | Train Accuracy: 92.74%\n",
      "Valid Loss: 2.4245 | Valid Accuracy: 51.31%\n"
     ]
    },
    {
     "name": "stderr",
     "output_type": "stream",
     "text": [
      "Epoch 25/ 100 - Training: 100%|██████████| 188/188 [00:01<00:00, 97.43it/s]\n",
      "Epoch 25/ 100 - Validation: 100%|██████████| 182/182 [00:00<00:00, 469.76it/s]\n"
     ]
    },
    {
     "name": "stdout",
     "output_type": "stream",
     "text": [
      "\n",
      "Epoch 25/100\n",
      "Train Loss: 0.5425 | Train Accuracy: 93.68%\n",
      "Valid Loss: 2.4553 | Valid Accuracy: 47.13%\n"
     ]
    },
    {
     "name": "stderr",
     "output_type": "stream",
     "text": [
      "Epoch 26/ 100 - Training: 100%|██████████| 188/188 [00:01<00:00, 96.52it/s]\n",
      "Epoch 26/ 100 - Validation: 100%|██████████| 182/182 [00:00<00:00, 469.60it/s]\n"
     ]
    },
    {
     "name": "stdout",
     "output_type": "stream",
     "text": [
      "\n",
      "Epoch 26/100\n",
      "Train Loss: 0.5214 | Train Accuracy: 93.59%\n",
      "Valid Loss: 2.4731 | Valid Accuracy: 51.57%\n"
     ]
    },
    {
     "name": "stderr",
     "output_type": "stream",
     "text": [
      "Epoch 27/ 100 - Training: 100%|██████████| 188/188 [00:01<00:00, 96.49it/s]\n",
      "Epoch 27/ 100 - Validation: 100%|██████████| 182/182 [00:00<00:00, 473.17it/s]\n"
     ]
    },
    {
     "name": "stdout",
     "output_type": "stream",
     "text": [
      "\n",
      "Epoch 27/100\n",
      "Train Loss: 0.5018 | Train Accuracy: 94.03%\n",
      "Valid Loss: 2.4416 | Valid Accuracy: 51.67%\n"
     ]
    },
    {
     "name": "stderr",
     "output_type": "stream",
     "text": [
      "Epoch 28/ 100 - Training: 100%|██████████| 188/188 [00:01<00:00, 96.84it/s]\n",
      "Epoch 28/ 100 - Validation: 100%|██████████| 182/182 [00:00<00:00, 467.07it/s]\n"
     ]
    },
    {
     "name": "stdout",
     "output_type": "stream",
     "text": [
      "\n",
      "Epoch 28/100\n",
      "Train Loss: 0.4720 | Train Accuracy: 94.71%\n",
      "Valid Loss: 2.5027 | Valid Accuracy: 51.42%\n"
     ]
    },
    {
     "name": "stderr",
     "output_type": "stream",
     "text": [
      "Epoch 29/ 100 - Training: 100%|██████████| 188/188 [00:01<00:00, 95.82it/s]\n",
      "Epoch 29/ 100 - Validation: 100%|██████████| 182/182 [00:00<00:00, 470.90it/s]\n"
     ]
    },
    {
     "name": "stdout",
     "output_type": "stream",
     "text": [
      "\n",
      "Epoch 29/100\n",
      "Train Loss: 0.4623 | Train Accuracy: 94.68%\n",
      "Valid Loss: 2.5069 | Valid Accuracy: 51.54%\n"
     ]
    },
    {
     "name": "stderr",
     "output_type": "stream",
     "text": [
      "Epoch 30/ 100 - Training: 100%|██████████| 188/188 [00:01<00:00, 96.53it/s]\n",
      "Epoch 30/ 100 - Validation: 100%|██████████| 182/182 [00:00<00:00, 468.31it/s]\n"
     ]
    },
    {
     "name": "stdout",
     "output_type": "stream",
     "text": [
      "\n",
      "Epoch 30/100\n",
      "Train Loss: 0.4458 | Train Accuracy: 95.08%\n",
      "Valid Loss: 2.4947 | Valid Accuracy: 51.28%\n"
     ]
    },
    {
     "name": "stderr",
     "output_type": "stream",
     "text": [
      "Epoch 31/ 100 - Training: 100%|██████████| 188/188 [00:01<00:00, 96.68it/s]\n",
      "Epoch 31/ 100 - Validation: 100%|██████████| 182/182 [00:00<00:00, 467.99it/s]\n"
     ]
    },
    {
     "name": "stdout",
     "output_type": "stream",
     "text": [
      "\n",
      "Epoch 31/100\n",
      "Train Loss: 0.4365 | Train Accuracy: 94.63%\n",
      "Valid Loss: 2.5200 | Valid Accuracy: 50.54%\n"
     ]
    },
    {
     "name": "stderr",
     "output_type": "stream",
     "text": [
      "Epoch 32/ 100 - Training: 100%|██████████| 188/188 [00:01<00:00, 96.42it/s]\n",
      "Epoch 32/ 100 - Validation: 100%|██████████| 182/182 [00:00<00:00, 470.43it/s]\n"
     ]
    },
    {
     "name": "stdout",
     "output_type": "stream",
     "text": [
      "\n",
      "Epoch 32/100\n",
      "Train Loss: 0.3878 | Train Accuracy: 96.60%\n",
      "Valid Loss: 2.5715 | Valid Accuracy: 51.29%\n"
     ]
    },
    {
     "name": "stderr",
     "output_type": "stream",
     "text": [
      "Epoch 33/ 100 - Training: 100%|██████████| 188/188 [00:01<00:00, 97.17it/s]\n",
      "Epoch 33/ 100 - Validation: 100%|██████████| 182/182 [00:00<00:00, 471.25it/s]\n"
     ]
    },
    {
     "name": "stdout",
     "output_type": "stream",
     "text": [
      "\n",
      "Epoch 33/100\n",
      "Train Loss: 0.3686 | Train Accuracy: 97.00%\n",
      "Valid Loss: 2.5517 | Valid Accuracy: 52.02%\n"
     ]
    },
    {
     "name": "stderr",
     "output_type": "stream",
     "text": [
      "Epoch 34/ 100 - Training: 100%|██████████| 188/188 [00:01<00:00, 97.39it/s]\n",
      "Epoch 34/ 100 - Validation: 100%|██████████| 182/182 [00:00<00:00, 469.90it/s]\n"
     ]
    },
    {
     "name": "stdout",
     "output_type": "stream",
     "text": [
      "\n",
      "Epoch 34/100\n",
      "Train Loss: 0.4161 | Train Accuracy: 95.01%\n",
      "Valid Loss: 2.5659 | Valid Accuracy: 49.52%\n"
     ]
    },
    {
     "name": "stderr",
     "output_type": "stream",
     "text": [
      "Epoch 35/ 100 - Training: 100%|██████████| 188/188 [00:01<00:00, 97.27it/s]\n",
      "Epoch 35/ 100 - Validation: 100%|██████████| 182/182 [00:00<00:00, 470.73it/s]\n"
     ]
    },
    {
     "name": "stdout",
     "output_type": "stream",
     "text": [
      "\n",
      "Epoch 35/100\n",
      "Train Loss: 0.4500 | Train Accuracy: 93.08%\n",
      "Valid Loss: 2.5769 | Valid Accuracy: 52.19%\n"
     ]
    },
    {
     "name": "stderr",
     "output_type": "stream",
     "text": [
      "Epoch 36/ 100 - Training: 100%|██████████| 188/188 [00:01<00:00, 97.28it/s]\n",
      "Epoch 36/ 100 - Validation: 100%|██████████| 182/182 [00:00<00:00, 469.70it/s]\n"
     ]
    },
    {
     "name": "stdout",
     "output_type": "stream",
     "text": [
      "\n",
      "Epoch 36/100\n",
      "Train Loss: 0.3341 | Train Accuracy: 97.56%\n",
      "Valid Loss: 2.5880 | Valid Accuracy: 52.50%\n"
     ]
    },
    {
     "name": "stderr",
     "output_type": "stream",
     "text": [
      "Epoch 37/ 100 - Training: 100%|██████████| 188/188 [00:01<00:00, 96.73it/s]\n",
      "Epoch 37/ 100 - Validation: 100%|██████████| 182/182 [00:00<00:00, 476.05it/s]\n"
     ]
    },
    {
     "name": "stdout",
     "output_type": "stream",
     "text": [
      "\n",
      "Epoch 37/100\n",
      "Train Loss: 0.3115 | Train Accuracy: 98.03%\n",
      "Valid Loss: 2.6577 | Valid Accuracy: 51.21%\n"
     ]
    },
    {
     "name": "stderr",
     "output_type": "stream",
     "text": [
      "Epoch 38/ 100 - Training: 100%|██████████| 188/188 [00:01<00:00, 96.67it/s]\n",
      "Epoch 38/ 100 - Validation: 100%|██████████| 182/182 [00:00<00:00, 469.10it/s]\n"
     ]
    },
    {
     "name": "stdout",
     "output_type": "stream",
     "text": [
      "\n",
      "Epoch 38/100\n",
      "Train Loss: 0.2929 | Train Accuracy: 98.40%\n",
      "Valid Loss: 2.6344 | Valid Accuracy: 51.14%\n"
     ]
    },
    {
     "name": "stderr",
     "output_type": "stream",
     "text": [
      "Epoch 39/ 100 - Training: 100%|██████████| 188/188 [00:01<00:00, 96.71it/s]\n",
      "Epoch 39/ 100 - Validation: 100%|██████████| 182/182 [00:00<00:00, 468.52it/s]\n"
     ]
    },
    {
     "name": "stdout",
     "output_type": "stream",
     "text": [
      "\n",
      "Epoch 39/100\n",
      "Train Loss: 0.2835 | Train Accuracy: 98.42%\n",
      "Valid Loss: 2.6735 | Valid Accuracy: 51.71%\n"
     ]
    },
    {
     "name": "stderr",
     "output_type": "stream",
     "text": [
      "Epoch 40/ 100 - Training: 100%|██████████| 188/188 [00:01<00:00, 96.57it/s]\n",
      "Epoch 40/ 100 - Validation: 100%|██████████| 182/182 [00:00<00:00, 468.69it/s]\n"
     ]
    },
    {
     "name": "stdout",
     "output_type": "stream",
     "text": [
      "\n",
      "Epoch 40/100\n",
      "Train Loss: 0.2884 | Train Accuracy: 98.16%\n",
      "Valid Loss: 2.6689 | Valid Accuracy: 49.33%\n"
     ]
    },
    {
     "name": "stderr",
     "output_type": "stream",
     "text": [
      "Epoch 41/ 100 - Training: 100%|██████████| 188/188 [00:01<00:00, 97.00it/s]\n",
      "Epoch 41/ 100 - Validation: 100%|██████████| 182/182 [00:00<00:00, 467.35it/s]\n"
     ]
    },
    {
     "name": "stdout",
     "output_type": "stream",
     "text": [
      "\n",
      "Epoch 41/100\n",
      "Train Loss: 0.3105 | Train Accuracy: 97.40%\n",
      "Valid Loss: 2.7512 | Valid Accuracy: 49.81%\n"
     ]
    },
    {
     "name": "stderr",
     "output_type": "stream",
     "text": [
      "Epoch 42/ 100 - Training: 100%|██████████| 188/188 [00:01<00:00, 97.32it/s]\n",
      "Epoch 42/ 100 - Validation: 100%|██████████| 182/182 [00:00<00:00, 469.30it/s]\n"
     ]
    },
    {
     "name": "stdout",
     "output_type": "stream",
     "text": [
      "\n",
      "Epoch 42/100\n",
      "Train Loss: 0.3060 | Train Accuracy: 97.71%\n",
      "Valid Loss: 2.7583 | Valid Accuracy: 50.47%\n"
     ]
    },
    {
     "name": "stderr",
     "output_type": "stream",
     "text": [
      "Epoch 43/ 100 - Training: 100%|██████████| 188/188 [00:01<00:00, 97.01it/s]\n",
      "Epoch 43/ 100 - Validation: 100%|██████████| 182/182 [00:00<00:00, 468.10it/s]\n"
     ]
    },
    {
     "name": "stdout",
     "output_type": "stream",
     "text": [
      "\n",
      "Epoch 43/100\n",
      "Train Loss: 0.2961 | Train Accuracy: 97.63%\n",
      "Valid Loss: 2.8977 | Valid Accuracy: 45.56%\n"
     ]
    },
    {
     "name": "stderr",
     "output_type": "stream",
     "text": [
      "Epoch 44/ 100 - Training: 100%|██████████| 188/188 [00:01<00:00, 97.03it/s]\n",
      "Epoch 44/ 100 - Validation: 100%|██████████| 182/182 [00:00<00:00, 469.56it/s]\n"
     ]
    },
    {
     "name": "stdout",
     "output_type": "stream",
     "text": [
      "\n",
      "Epoch 44/100\n",
      "Train Loss: 0.3325 | Train Accuracy: 96.18%\n",
      "Valid Loss: 2.7382 | Valid Accuracy: 49.38%\n"
     ]
    },
    {
     "name": "stderr",
     "output_type": "stream",
     "text": [
      "Epoch 45/ 100 - Training: 100%|██████████| 188/188 [00:01<00:00, 97.43it/s]\n",
      "Epoch 45/ 100 - Validation: 100%|██████████| 182/182 [00:00<00:00, 469.38it/s]\n"
     ]
    },
    {
     "name": "stdout",
     "output_type": "stream",
     "text": [
      "\n",
      "Epoch 45/100\n",
      "Train Loss: 0.2767 | Train Accuracy: 97.85%\n",
      "Valid Loss: 2.7290 | Valid Accuracy: 50.35%\n"
     ]
    },
    {
     "name": "stderr",
     "output_type": "stream",
     "text": [
      "Epoch 46/ 100 - Training: 100%|██████████| 188/188 [00:01<00:00, 96.61it/s]\n",
      "Epoch 46/ 100 - Validation: 100%|██████████| 182/182 [00:00<00:00, 471.07it/s]\n"
     ]
    },
    {
     "name": "stdout",
     "output_type": "stream",
     "text": [
      "\n",
      "Epoch 46/100\n",
      "Train Loss: 0.2504 | Train Accuracy: 98.33%\n",
      "Valid Loss: 2.7330 | Valid Accuracy: 51.50%\n"
     ]
    },
    {
     "name": "stderr",
     "output_type": "stream",
     "text": [
      "Epoch 47/ 100 - Training: 100%|██████████| 188/188 [00:01<00:00, 96.94it/s]\n",
      "Epoch 47/ 100 - Validation: 100%|██████████| 182/182 [00:00<00:00, 472.46it/s]\n"
     ]
    },
    {
     "name": "stdout",
     "output_type": "stream",
     "text": [
      "\n",
      "Epoch 47/100\n",
      "Train Loss: 0.2274 | Train Accuracy: 98.70%\n",
      "Valid Loss: 2.7092 | Valid Accuracy: 51.71%\n"
     ]
    },
    {
     "name": "stderr",
     "output_type": "stream",
     "text": [
      "Epoch 48/ 100 - Training: 100%|██████████| 188/188 [00:01<00:00, 96.95it/s]\n",
      "Epoch 48/ 100 - Validation: 100%|██████████| 182/182 [00:00<00:00, 470.83it/s]\n"
     ]
    },
    {
     "name": "stdout",
     "output_type": "stream",
     "text": [
      "\n",
      "Epoch 48/100\n",
      "Train Loss: 0.2259 | Train Accuracy: 98.80%\n",
      "Valid Loss: 2.8317 | Valid Accuracy: 48.17%\n"
     ]
    },
    {
     "name": "stderr",
     "output_type": "stream",
     "text": [
      "Epoch 49/ 100 - Training: 100%|██████████| 188/188 [00:01<00:00, 96.77it/s]\n",
      "Epoch 49/ 100 - Validation: 100%|██████████| 182/182 [00:00<00:00, 470.54it/s]\n"
     ]
    },
    {
     "name": "stdout",
     "output_type": "stream",
     "text": [
      "\n",
      "Epoch 49/100\n",
      "Train Loss: 0.2829 | Train Accuracy: 97.25%\n",
      "Valid Loss: 2.7979 | Valid Accuracy: 50.07%\n"
     ]
    },
    {
     "name": "stderr",
     "output_type": "stream",
     "text": [
      "Epoch 50/ 100 - Training: 100%|██████████| 188/188 [00:01<00:00, 96.97it/s]\n",
      "Epoch 50/ 100 - Validation: 100%|██████████| 182/182 [00:00<00:00, 466.49it/s]\n"
     ]
    },
    {
     "name": "stdout",
     "output_type": "stream",
     "text": [
      "\n",
      "Epoch 50/100\n",
      "Train Loss: 0.2556 | Train Accuracy: 98.11%\n",
      "Valid Loss: 2.7866 | Valid Accuracy: 50.14%\n"
     ]
    },
    {
     "name": "stderr",
     "output_type": "stream",
     "text": [
      "Epoch 51/ 100 - Training: 100%|██████████| 188/188 [00:01<00:00, 96.98it/s]\n",
      "Epoch 51/ 100 - Validation: 100%|██████████| 182/182 [00:00<00:00, 477.43it/s]\n"
     ]
    },
    {
     "name": "stdout",
     "output_type": "stream",
     "text": [
      "\n",
      "Epoch 51/100\n",
      "Train Loss: 0.2045 | Train Accuracy: 99.03%\n",
      "Valid Loss: 2.7896 | Valid Accuracy: 51.28%\n"
     ]
    },
    {
     "name": "stderr",
     "output_type": "stream",
     "text": [
      "Epoch 52/ 100 - Training: 100%|██████████| 188/188 [00:01<00:00, 96.54it/s]\n",
      "Epoch 52/ 100 - Validation: 100%|██████████| 182/182 [00:00<00:00, 470.83it/s]\n"
     ]
    },
    {
     "name": "stdout",
     "output_type": "stream",
     "text": [
      "\n",
      "Epoch 52/100\n",
      "Train Loss: 0.1856 | Train Accuracy: 99.28%\n",
      "Valid Loss: 2.7681 | Valid Accuracy: 50.95%\n"
     ]
    },
    {
     "name": "stderr",
     "output_type": "stream",
     "text": [
      "Epoch 53/ 100 - Training: 100%|██████████| 188/188 [00:01<00:00, 96.94it/s]\n",
      "Epoch 53/ 100 - Validation: 100%|██████████| 182/182 [00:00<00:00, 470.00it/s]\n"
     ]
    },
    {
     "name": "stdout",
     "output_type": "stream",
     "text": [
      "\n",
      "Epoch 53/100\n",
      "Train Loss: 0.2788 | Train Accuracy: 96.80%\n",
      "Valid Loss: 2.9240 | Valid Accuracy: 47.32%\n"
     ]
    },
    {
     "name": "stderr",
     "output_type": "stream",
     "text": [
      "Epoch 54/ 100 - Training: 100%|██████████| 188/188 [00:01<00:00, 96.52it/s]\n",
      "Epoch 54/ 100 - Validation: 100%|██████████| 182/182 [00:00<00:00, 473.76it/s]\n"
     ]
    },
    {
     "name": "stdout",
     "output_type": "stream",
     "text": [
      "\n",
      "Epoch 54/100\n",
      "Train Loss: 0.2871 | Train Accuracy: 97.01%\n",
      "Valid Loss: 2.7327 | Valid Accuracy: 49.90%\n"
     ]
    },
    {
     "name": "stderr",
     "output_type": "stream",
     "text": [
      "Epoch 55/ 100 - Training: 100%|██████████| 188/188 [00:01<00:00, 103.38it/s]\n",
      "Epoch 55/ 100 - Validation: 100%|██████████| 182/182 [00:00<00:00, 471.99it/s]\n"
     ]
    },
    {
     "name": "stdout",
     "output_type": "stream",
     "text": [
      "\n",
      "Epoch 55/100\n",
      "Train Loss: 0.2723 | Train Accuracy: 97.43%\n",
      "Valid Loss: 2.8487 | Valid Accuracy: 49.28%\n"
     ]
    },
    {
     "name": "stderr",
     "output_type": "stream",
     "text": [
      "Epoch 56/ 100 - Training: 100%|██████████| 188/188 [00:01<00:00, 100.80it/s]\n",
      "Epoch 56/ 100 - Validation: 100%|██████████| 182/182 [00:00<00:00, 470.48it/s]\n"
     ]
    },
    {
     "name": "stdout",
     "output_type": "stream",
     "text": [
      "\n",
      "Epoch 56/100\n",
      "Train Loss: 0.2241 | Train Accuracy: 98.50%\n",
      "Valid Loss: 2.7862 | Valid Accuracy: 50.86%\n"
     ]
    },
    {
     "name": "stderr",
     "output_type": "stream",
     "text": [
      "Epoch 57/ 100 - Training: 100%|██████████| 188/188 [00:01<00:00, 99.98it/s]\n",
      "Epoch 57/ 100 - Validation: 100%|██████████| 182/182 [00:00<00:00, 471.73it/s]\n"
     ]
    },
    {
     "name": "stdout",
     "output_type": "stream",
     "text": [
      "\n",
      "Epoch 57/100\n",
      "Train Loss: 0.2196 | Train Accuracy: 98.60%\n",
      "Valid Loss: 2.7779 | Valid Accuracy: 51.04%\n"
     ]
    },
    {
     "name": "stderr",
     "output_type": "stream",
     "text": [
      "Epoch 58/ 100 - Training: 100%|██████████| 188/188 [00:01<00:00, 100.73it/s]\n",
      "Epoch 58/ 100 - Validation: 100%|██████████| 182/182 [00:00<00:00, 470.76it/s]\n"
     ]
    },
    {
     "name": "stdout",
     "output_type": "stream",
     "text": [
      "\n",
      "Epoch 58/100\n",
      "Train Loss: 0.2856 | Train Accuracy: 96.65%\n",
      "Valid Loss: 2.8913 | Valid Accuracy: 49.40%\n"
     ]
    },
    {
     "name": "stderr",
     "output_type": "stream",
     "text": [
      "Epoch 59/ 100 - Training: 100%|██████████| 188/188 [00:01<00:00, 100.70it/s]\n",
      "Epoch 59/ 100 - Validation: 100%|██████████| 182/182 [00:00<00:00, 476.10it/s]\n"
     ]
    },
    {
     "name": "stdout",
     "output_type": "stream",
     "text": [
      "\n",
      "Epoch 59/100\n",
      "Train Loss: 0.2285 | Train Accuracy: 98.47%\n",
      "Valid Loss: 2.8063 | Valid Accuracy: 50.48%\n"
     ]
    },
    {
     "name": "stderr",
     "output_type": "stream",
     "text": [
      "Epoch 60/ 100 - Training: 100%|██████████| 188/188 [00:01<00:00, 100.26it/s]\n",
      "Epoch 60/ 100 - Validation: 100%|██████████| 182/182 [00:00<00:00, 469.94it/s]\n"
     ]
    },
    {
     "name": "stdout",
     "output_type": "stream",
     "text": [
      "\n",
      "Epoch 60/100\n",
      "Train Loss: 0.2022 | Train Accuracy: 98.77%\n",
      "Valid Loss: 2.8239 | Valid Accuracy: 50.54%\n"
     ]
    },
    {
     "name": "stderr",
     "output_type": "stream",
     "text": [
      "Epoch 61/ 100 - Training: 100%|██████████| 188/188 [00:01<00:00, 100.77it/s]\n",
      "Epoch 61/ 100 - Validation: 100%|██████████| 182/182 [00:00<00:00, 471.57it/s]\n"
     ]
    },
    {
     "name": "stdout",
     "output_type": "stream",
     "text": [
      "\n",
      "Epoch 61/100\n",
      "Train Loss: 0.1802 | Train Accuracy: 99.00%\n",
      "Valid Loss: 2.8187 | Valid Accuracy: 49.40%\n"
     ]
    },
    {
     "name": "stderr",
     "output_type": "stream",
     "text": [
      "Epoch 62/ 100 - Training: 100%|██████████| 188/188 [00:01<00:00, 100.35it/s]\n",
      "Epoch 62/ 100 - Validation: 100%|██████████| 182/182 [00:00<00:00, 477.80it/s]\n"
     ]
    },
    {
     "name": "stdout",
     "output_type": "stream",
     "text": [
      "\n",
      "Epoch 62/100\n",
      "Train Loss: 0.2712 | Train Accuracy: 96.80%\n",
      "Valid Loss: 3.1478 | Valid Accuracy: 41.23%\n"
     ]
    },
    {
     "name": "stderr",
     "output_type": "stream",
     "text": [
      "Epoch 63/ 100 - Training: 100%|██████████| 188/188 [00:01<00:00, 100.34it/s]\n",
      "Epoch 63/ 100 - Validation: 100%|██████████| 182/182 [00:00<00:00, 472.64it/s]\n"
     ]
    },
    {
     "name": "stdout",
     "output_type": "stream",
     "text": [
      "\n",
      "Epoch 63/100\n",
      "Train Loss: 0.3175 | Train Accuracy: 95.45%\n",
      "Valid Loss: 2.8787 | Valid Accuracy: 49.09%\n"
     ]
    },
    {
     "name": "stderr",
     "output_type": "stream",
     "text": [
      "Epoch 64/ 100 - Training: 100%|██████████| 188/188 [00:01<00:00, 101.29it/s]\n",
      "Epoch 64/ 100 - Validation: 100%|██████████| 182/182 [00:00<00:00, 468.43it/s]\n"
     ]
    },
    {
     "name": "stdout",
     "output_type": "stream",
     "text": [
      "\n",
      "Epoch 64/100\n",
      "Train Loss: 0.1950 | Train Accuracy: 98.97%\n",
      "Valid Loss: 2.7814 | Valid Accuracy: 51.54%\n"
     ]
    },
    {
     "name": "stderr",
     "output_type": "stream",
     "text": [
      "Epoch 65/ 100 - Training: 100%|██████████| 188/188 [00:01<00:00, 100.21it/s]\n",
      "Epoch 65/ 100 - Validation: 100%|██████████| 182/182 [00:00<00:00, 470.69it/s]\n"
     ]
    },
    {
     "name": "stdout",
     "output_type": "stream",
     "text": [
      "\n",
      "Epoch 65/100\n",
      "Train Loss: 0.1693 | Train Accuracy: 99.25%\n",
      "Valid Loss: 2.7735 | Valid Accuracy: 51.67%\n"
     ]
    },
    {
     "name": "stderr",
     "output_type": "stream",
     "text": [
      "Epoch 66/ 100 - Training: 100%|██████████| 188/188 [00:01<00:00, 100.71it/s]\n",
      "Epoch 66/ 100 - Validation: 100%|██████████| 182/182 [00:00<00:00, 473.07it/s]\n"
     ]
    },
    {
     "name": "stdout",
     "output_type": "stream",
     "text": [
      "\n",
      "Epoch 66/100\n",
      "Train Loss: 0.1540 | Train Accuracy: 99.40%\n",
      "Valid Loss: 2.7859 | Valid Accuracy: 51.47%\n"
     ]
    },
    {
     "name": "stderr",
     "output_type": "stream",
     "text": [
      "Epoch 67/ 100 - Training: 100%|██████████| 188/188 [00:01<00:00, 99.69it/s]\n",
      "Epoch 67/ 100 - Validation: 100%|██████████| 182/182 [00:00<00:00, 464.75it/s]\n"
     ]
    },
    {
     "name": "stdout",
     "output_type": "stream",
     "text": [
      "\n",
      "Epoch 67/100\n",
      "Train Loss: 0.1497 | Train Accuracy: 99.53%\n",
      "Valid Loss: 2.8188 | Valid Accuracy: 51.02%\n"
     ]
    },
    {
     "name": "stderr",
     "output_type": "stream",
     "text": [
      "Epoch 68/ 100 - Training: 100%|██████████| 188/188 [00:01<00:00, 96.18it/s]\n",
      "Epoch 68/ 100 - Validation: 100%|██████████| 182/182 [00:00<00:00, 462.53it/s]\n"
     ]
    },
    {
     "name": "stdout",
     "output_type": "stream",
     "text": [
      "\n",
      "Epoch 68/100\n",
      "Train Loss: 0.1715 | Train Accuracy: 98.85%\n",
      "Valid Loss: 2.9123 | Valid Accuracy: 47.70%\n"
     ]
    },
    {
     "name": "stderr",
     "output_type": "stream",
     "text": [
      "Epoch 69/ 100 - Training: 100%|██████████| 188/188 [00:01<00:00, 96.99it/s]\n",
      "Epoch 69/ 100 - Validation: 100%|██████████| 182/182 [00:00<00:00, 460.71it/s]\n"
     ]
    },
    {
     "name": "stdout",
     "output_type": "stream",
     "text": [
      "\n",
      "Epoch 69/100\n",
      "Train Loss: 0.2269 | Train Accuracy: 98.00%\n",
      "Valid Loss: 3.1347 | Valid Accuracy: 45.08%\n"
     ]
    },
    {
     "name": "stderr",
     "output_type": "stream",
     "text": [
      "Epoch 70/ 100 - Training: 100%|██████████| 188/188 [00:01<00:00, 99.87it/s]\n",
      "Epoch 70/ 100 - Validation: 100%|██████████| 182/182 [00:00<00:00, 466.07it/s]\n"
     ]
    },
    {
     "name": "stdout",
     "output_type": "stream",
     "text": [
      "\n",
      "Epoch 70/100\n",
      "Train Loss: 0.4782 | Train Accuracy: 91.99%\n",
      "Valid Loss: 2.8760 | Valid Accuracy: 48.57%\n"
     ]
    },
    {
     "name": "stderr",
     "output_type": "stream",
     "text": [
      "Epoch 71/ 100 - Training: 100%|██████████| 188/188 [00:01<00:00, 99.71it/s]\n",
      "Epoch 71/ 100 - Validation: 100%|██████████| 182/182 [00:00<00:00, 460.68it/s]\n"
     ]
    },
    {
     "name": "stdout",
     "output_type": "stream",
     "text": [
      "\n",
      "Epoch 71/100\n",
      "Train Loss: 0.3352 | Train Accuracy: 96.18%\n",
      "Valid Loss: 2.8511 | Valid Accuracy: 49.09%\n"
     ]
    },
    {
     "name": "stderr",
     "output_type": "stream",
     "text": [
      "Epoch 72/ 100 - Training: 100%|██████████| 188/188 [00:01<00:00, 100.50it/s]\n",
      "Epoch 72/ 100 - Validation: 100%|██████████| 182/182 [00:00<00:00, 459.87it/s]\n"
     ]
    },
    {
     "name": "stdout",
     "output_type": "stream",
     "text": [
      "\n",
      "Epoch 72/100\n",
      "Train Loss: 0.2419 | Train Accuracy: 97.88%\n",
      "Valid Loss: 2.8383 | Valid Accuracy: 49.83%\n"
     ]
    },
    {
     "name": "stderr",
     "output_type": "stream",
     "text": [
      "Epoch 73/ 100 - Training: 100%|██████████| 188/188 [00:01<00:00, 99.70it/s]\n",
      "Epoch 73/ 100 - Validation: 100%|██████████| 182/182 [00:00<00:00, 461.15it/s]\n"
     ]
    },
    {
     "name": "stdout",
     "output_type": "stream",
     "text": [
      "\n",
      "Epoch 73/100\n",
      "Train Loss: 0.1975 | Train Accuracy: 98.80%\n",
      "Valid Loss: 2.7813 | Valid Accuracy: 51.45%\n"
     ]
    },
    {
     "name": "stderr",
     "output_type": "stream",
     "text": [
      "Epoch 74/ 100 - Training: 100%|██████████| 188/188 [00:01<00:00, 99.85it/s]\n",
      "Epoch 74/ 100 - Validation: 100%|██████████| 182/182 [00:00<00:00, 460.76it/s]\n"
     ]
    },
    {
     "name": "stdout",
     "output_type": "stream",
     "text": [
      "\n",
      "Epoch 74/100\n",
      "Train Loss: 0.1803 | Train Accuracy: 99.18%\n",
      "Valid Loss: 2.7726 | Valid Accuracy: 51.59%\n"
     ]
    },
    {
     "name": "stderr",
     "output_type": "stream",
     "text": [
      "Epoch 75/ 100 - Training: 100%|██████████| 188/188 [00:01<00:00, 99.74it/s] \n",
      "Epoch 75/ 100 - Validation: 100%|██████████| 182/182 [00:00<00:00, 463.83it/s]\n"
     ]
    },
    {
     "name": "stdout",
     "output_type": "stream",
     "text": [
      "\n",
      "Epoch 75/100\n",
      "Train Loss: 0.1728 | Train Accuracy: 99.25%\n",
      "Valid Loss: 2.8114 | Valid Accuracy: 51.28%\n"
     ]
    },
    {
     "name": "stderr",
     "output_type": "stream",
     "text": [
      "Epoch 76/ 100 - Training: 100%|██████████| 188/188 [00:01<00:00, 99.66it/s]\n",
      "Epoch 76/ 100 - Validation: 100%|██████████| 182/182 [00:00<00:00, 462.17it/s]\n"
     ]
    },
    {
     "name": "stdout",
     "output_type": "stream",
     "text": [
      "\n",
      "Epoch 76/100\n",
      "Train Loss: 0.1725 | Train Accuracy: 99.25%\n",
      "Valid Loss: 2.8246 | Valid Accuracy: 50.88%\n"
     ]
    },
    {
     "name": "stderr",
     "output_type": "stream",
     "text": [
      "Epoch 77/ 100 - Training: 100%|██████████| 188/188 [00:01<00:00, 100.10it/s]\n",
      "Epoch 77/ 100 - Validation: 100%|██████████| 182/182 [00:00<00:00, 462.07it/s]\n"
     ]
    },
    {
     "name": "stdout",
     "output_type": "stream",
     "text": [
      "\n",
      "Epoch 77/100\n",
      "Train Loss: 0.1846 | Train Accuracy: 98.85%\n",
      "Valid Loss: 2.8614 | Valid Accuracy: 49.72%\n"
     ]
    },
    {
     "name": "stderr",
     "output_type": "stream",
     "text": [
      "Epoch 78/ 100 - Training: 100%|██████████| 188/188 [00:01<00:00, 100.28it/s]\n",
      "Epoch 78/ 100 - Validation: 100%|██████████| 182/182 [00:00<00:00, 463.97it/s]\n"
     ]
    },
    {
     "name": "stdout",
     "output_type": "stream",
     "text": [
      "\n",
      "Epoch 78/100\n",
      "Train Loss: 0.3887 | Train Accuracy: 93.84%\n",
      "Valid Loss: 3.1532 | Valid Accuracy: 43.84%\n"
     ]
    },
    {
     "name": "stderr",
     "output_type": "stream",
     "text": [
      "Epoch 79/ 100 - Training: 100%|██████████| 188/188 [00:01<00:00, 99.57it/s]\n",
      "Epoch 79/ 100 - Validation: 100%|██████████| 182/182 [00:00<00:00, 463.44it/s]\n"
     ]
    },
    {
     "name": "stdout",
     "output_type": "stream",
     "text": [
      "\n",
      "Epoch 79/100\n",
      "Train Loss: 0.4404 | Train Accuracy: 93.01%\n",
      "Valid Loss: 2.8533 | Valid Accuracy: 49.48%\n"
     ]
    },
    {
     "name": "stderr",
     "output_type": "stream",
     "text": [
      "Epoch 80/ 100 - Training: 100%|██████████| 188/188 [00:01<00:00, 100.28it/s]\n",
      "Epoch 80/ 100 - Validation: 100%|██████████| 182/182 [00:00<00:00, 460.11it/s]\n"
     ]
    },
    {
     "name": "stdout",
     "output_type": "stream",
     "text": [
      "\n",
      "Epoch 80/100\n",
      "Train Loss: 0.2723 | Train Accuracy: 97.20%\n",
      "Valid Loss: 2.8046 | Valid Accuracy: 50.07%\n"
     ]
    },
    {
     "name": "stderr",
     "output_type": "stream",
     "text": [
      "Epoch 81/ 100 - Training: 100%|██████████| 188/188 [00:01<00:00, 100.63it/s]\n",
      "Epoch 81/ 100 - Validation: 100%|██████████| 182/182 [00:00<00:00, 473.33it/s]\n"
     ]
    },
    {
     "name": "stdout",
     "output_type": "stream",
     "text": [
      "\n",
      "Epoch 81/100\n",
      "Train Loss: 0.2418 | Train Accuracy: 98.03%\n",
      "Valid Loss: 2.8284 | Valid Accuracy: 50.36%\n"
     ]
    },
    {
     "name": "stderr",
     "output_type": "stream",
     "text": [
      "Epoch 82/ 100 - Training: 100%|██████████| 188/188 [00:01<00:00, 99.47it/s]\n",
      "Epoch 82/ 100 - Validation: 100%|██████████| 182/182 [00:00<00:00, 463.16it/s]\n"
     ]
    },
    {
     "name": "stdout",
     "output_type": "stream",
     "text": [
      "\n",
      "Epoch 82/100\n",
      "Train Loss: 0.2283 | Train Accuracy: 98.16%\n",
      "Valid Loss: 2.8211 | Valid Accuracy: 50.21%\n"
     ]
    },
    {
     "name": "stderr",
     "output_type": "stream",
     "text": [
      "Epoch 83/ 100 - Training: 100%|██████████| 188/188 [00:01<00:00, 100.55it/s]\n",
      "Epoch 83/ 100 - Validation: 100%|██████████| 182/182 [00:00<00:00, 460.88it/s]\n"
     ]
    },
    {
     "name": "stdout",
     "output_type": "stream",
     "text": [
      "\n",
      "Epoch 83/100\n",
      "Train Loss: 0.2476 | Train Accuracy: 97.73%\n",
      "Valid Loss: 2.9335 | Valid Accuracy: 47.69%\n"
     ]
    },
    {
     "name": "stderr",
     "output_type": "stream",
     "text": [
      "Epoch 84/ 100 - Training: 100%|██████████| 188/188 [00:01<00:00, 99.77it/s]\n",
      "Epoch 84/ 100 - Validation: 100%|██████████| 182/182 [00:00<00:00, 462.23it/s]\n"
     ]
    },
    {
     "name": "stdout",
     "output_type": "stream",
     "text": [
      "\n",
      "Epoch 84/100\n",
      "Train Loss: 0.3458 | Train Accuracy: 95.45%\n",
      "Valid Loss: 3.1390 | Valid Accuracy: 45.24%\n"
     ]
    },
    {
     "name": "stderr",
     "output_type": "stream",
     "text": [
      "Epoch 85/ 100 - Training: 100%|██████████| 188/188 [00:01<00:00, 98.43it/s]\n",
      "Epoch 85/ 100 - Validation: 100%|██████████| 182/182 [00:00<00:00, 459.10it/s]\n"
     ]
    },
    {
     "name": "stdout",
     "output_type": "stream",
     "text": [
      "\n",
      "Epoch 85/100\n",
      "Train Loss: 0.3412 | Train Accuracy: 95.65%\n",
      "Valid Loss: 2.9142 | Valid Accuracy: 48.36%\n"
     ]
    },
    {
     "name": "stderr",
     "output_type": "stream",
     "text": [
      "Epoch 86/ 100 - Training: 100%|██████████| 188/188 [00:01<00:00, 97.10it/s]\n",
      "Epoch 86/ 100 - Validation: 100%|██████████| 182/182 [00:00<00:00, 460.36it/s]\n"
     ]
    },
    {
     "name": "stdout",
     "output_type": "stream",
     "text": [
      "\n",
      "Epoch 86/100\n",
      "Train Loss: 0.2653 | Train Accuracy: 97.36%\n",
      "Valid Loss: 2.8640 | Valid Accuracy: 49.83%\n"
     ]
    },
    {
     "name": "stderr",
     "output_type": "stream",
     "text": [
      "Epoch 87/ 100 - Training: 100%|██████████| 188/188 [00:01<00:00, 96.29it/s]\n",
      "Epoch 87/ 100 - Validation: 100%|██████████| 182/182 [00:00<00:00, 462.35it/s]\n"
     ]
    },
    {
     "name": "stdout",
     "output_type": "stream",
     "text": [
      "\n",
      "Epoch 87/100\n",
      "Train Loss: 0.2114 | Train Accuracy: 98.63%\n",
      "Valid Loss: 2.8258 | Valid Accuracy: 50.33%\n"
     ]
    },
    {
     "name": "stderr",
     "output_type": "stream",
     "text": [
      "Epoch 88/ 100 - Training: 100%|██████████| 188/188 [00:01<00:00, 96.80it/s]\n",
      "Epoch 88/ 100 - Validation: 100%|██████████| 182/182 [00:00<00:00, 459.93it/s]\n"
     ]
    },
    {
     "name": "stdout",
     "output_type": "stream",
     "text": [
      "\n",
      "Epoch 88/100\n",
      "Train Loss: 0.1933 | Train Accuracy: 99.02%\n",
      "Valid Loss: 2.9036 | Valid Accuracy: 49.55%\n"
     ]
    },
    {
     "name": "stderr",
     "output_type": "stream",
     "text": [
      "Epoch 89/ 100 - Training: 100%|██████████| 188/188 [00:01<00:00, 97.06it/s]\n",
      "Epoch 89/ 100 - Validation: 100%|██████████| 182/182 [00:00<00:00, 458.81it/s]\n"
     ]
    },
    {
     "name": "stdout",
     "output_type": "stream",
     "text": [
      "\n",
      "Epoch 89/100\n",
      "Train Loss: 0.1994 | Train Accuracy: 98.87%\n",
      "Valid Loss: 2.8792 | Valid Accuracy: 49.45%\n"
     ]
    },
    {
     "name": "stderr",
     "output_type": "stream",
     "text": [
      "Epoch 90/ 100 - Training: 100%|██████████| 188/188 [00:01<00:00, 96.38it/s]\n",
      "Epoch 90/ 100 - Validation: 100%|██████████| 182/182 [00:00<00:00, 461.06it/s]\n"
     ]
    },
    {
     "name": "stdout",
     "output_type": "stream",
     "text": [
      "\n",
      "Epoch 90/100\n",
      "Train Loss: 0.2921 | Train Accuracy: 95.90%\n",
      "Valid Loss: 2.9233 | Valid Accuracy: 48.43%\n"
     ]
    },
    {
     "name": "stderr",
     "output_type": "stream",
     "text": [
      "Epoch 91/ 100 - Training: 100%|██████████| 188/188 [00:01<00:00, 96.92it/s]\n",
      "Epoch 91/ 100 - Validation: 100%|██████████| 182/182 [00:00<00:00, 461.00it/s]\n"
     ]
    },
    {
     "name": "stdout",
     "output_type": "stream",
     "text": [
      "\n",
      "Epoch 91/100\n",
      "Train Loss: 0.3336 | Train Accuracy: 95.11%\n",
      "Valid Loss: 2.9835 | Valid Accuracy: 47.58%\n"
     ]
    },
    {
     "name": "stderr",
     "output_type": "stream",
     "text": [
      "Epoch 92/ 100 - Training: 100%|██████████| 188/188 [00:01<00:00, 96.94it/s]\n",
      "Epoch 92/ 100 - Validation: 100%|██████████| 182/182 [00:00<00:00, 458.75it/s]\n"
     ]
    },
    {
     "name": "stdout",
     "output_type": "stream",
     "text": [
      "\n",
      "Epoch 92/100\n",
      "Train Loss: 0.2876 | Train Accuracy: 96.63%\n",
      "Valid Loss: 2.8367 | Valid Accuracy: 49.60%\n"
     ]
    },
    {
     "name": "stderr",
     "output_type": "stream",
     "text": [
      "Epoch 93/ 100 - Training: 100%|██████████| 188/188 [00:01<00:00, 96.08it/s]\n",
      "Epoch 93/ 100 - Validation: 100%|██████████| 182/182 [00:00<00:00, 463.41it/s]\n"
     ]
    },
    {
     "name": "stdout",
     "output_type": "stream",
     "text": [
      "\n",
      "Epoch 93/100\n",
      "Train Loss: 0.2538 | Train Accuracy: 97.25%\n",
      "Valid Loss: 3.0259 | Valid Accuracy: 47.13%\n"
     ]
    },
    {
     "name": "stderr",
     "output_type": "stream",
     "text": [
      "Epoch 94/ 100 - Training: 100%|██████████| 188/188 [00:01<00:00, 97.28it/s]\n",
      "Epoch 94/ 100 - Validation: 100%|██████████| 182/182 [00:00<00:00, 461.30it/s]\n"
     ]
    },
    {
     "name": "stdout",
     "output_type": "stream",
     "text": [
      "\n",
      "Epoch 94/100\n",
      "Train Loss: 0.1973 | Train Accuracy: 98.62%\n",
      "Valid Loss: 2.8141 | Valid Accuracy: 50.76%\n"
     ]
    },
    {
     "name": "stderr",
     "output_type": "stream",
     "text": [
      "Epoch 95/ 100 - Training: 100%|██████████| 188/188 [00:01<00:00, 96.24it/s]\n",
      "Epoch 95/ 100 - Validation: 100%|██████████| 182/182 [00:00<00:00, 460.65it/s]\n"
     ]
    },
    {
     "name": "stdout",
     "output_type": "stream",
     "text": [
      "\n",
      "Epoch 95/100\n",
      "Train Loss: 0.1553 | Train Accuracy: 99.38%\n",
      "Valid Loss: 2.8065 | Valid Accuracy: 50.72%\n"
     ]
    },
    {
     "name": "stderr",
     "output_type": "stream",
     "text": [
      "Epoch 96/ 100 - Training: 100%|██████████| 188/188 [00:01<00:00, 96.71it/s]\n",
      "Epoch 96/ 100 - Validation: 100%|██████████| 182/182 [00:00<00:00, 461.44it/s]\n"
     ]
    },
    {
     "name": "stdout",
     "output_type": "stream",
     "text": [
      "\n",
      "Epoch 96/100\n",
      "Train Loss: 0.1813 | Train Accuracy: 98.75%\n",
      "Valid Loss: 2.8633 | Valid Accuracy: 50.03%\n"
     ]
    },
    {
     "name": "stderr",
     "output_type": "stream",
     "text": [
      "Epoch 97/ 100 - Training: 100%|██████████| 188/188 [00:01<00:00, 96.27it/s]\n",
      "Epoch 97/ 100 - Validation: 100%|██████████| 182/182 [00:00<00:00, 460.96it/s]\n"
     ]
    },
    {
     "name": "stdout",
     "output_type": "stream",
     "text": [
      "\n",
      "Epoch 97/100\n",
      "Train Loss: 0.1680 | Train Accuracy: 99.10%\n",
      "Valid Loss: 2.8318 | Valid Accuracy: 50.48%\n"
     ]
    },
    {
     "name": "stderr",
     "output_type": "stream",
     "text": [
      "Epoch 98/ 100 - Training: 100%|██████████| 188/188 [00:01<00:00, 97.04it/s]\n",
      "Epoch 98/ 100 - Validation: 100%|██████████| 182/182 [00:00<00:00, 463.22it/s]\n"
     ]
    },
    {
     "name": "stdout",
     "output_type": "stream",
     "text": [
      "\n",
      "Epoch 98/100\n",
      "Train Loss: 0.3988 | Train Accuracy: 92.46%\n",
      "Valid Loss: 3.1302 | Valid Accuracy: 44.60%\n"
     ]
    },
    {
     "name": "stderr",
     "output_type": "stream",
     "text": [
      "Epoch 99/ 100 - Training: 100%|██████████| 188/188 [00:01<00:00, 96.61it/s]\n",
      "Epoch 99/ 100 - Validation: 100%|██████████| 182/182 [00:00<00:00, 466.99it/s]\n"
     ]
    },
    {
     "name": "stdout",
     "output_type": "stream",
     "text": [
      "\n",
      "Epoch 99/100\n",
      "Train Loss: 0.3214 | Train Accuracy: 95.65%\n",
      "Valid Loss: 2.9316 | Valid Accuracy: 48.96%\n"
     ]
    },
    {
     "name": "stderr",
     "output_type": "stream",
     "text": [
      "Epoch 100/ 100 - Training: 100%|██████████| 188/188 [00:01<00:00, 96.02it/s]\n",
      "Epoch 100/ 100 - Validation: 100%|██████████| 182/182 [00:00<00:00, 461.20it/s]"
     ]
    },
    {
     "name": "stdout",
     "output_type": "stream",
     "text": [
      "\n",
      "Epoch 100/100\n",
      "Train Loss: 0.2116 | Train Accuracy: 98.47%\n",
      "Valid Loss: 2.8911 | Valid Accuracy: 49.71%\n",
      "Max Valid Accuracy: 52.50%\n"
     ]
    },
    {
     "name": "stderr",
     "output_type": "stream",
     "text": [
      "\n"
     ]
    }
   ],
   "source": [
    "import torch\n",
    "import torch.nn as nn\n",
    "import torch.optim as optim\n",
    "from tqdm import tqdm\n",
    "from Capsule.Layer.CapsuleLayer import AdaptiveCapsuleHead\n",
    "\n",
    "device = torch.device('cuda:1' if torch.cuda.is_available() else 'cpu')\n",
    "print(device)\n",
    "\n",
    "classifier = nn.Sequential(\n",
    "                AdaptiveCapsuleHead(512, 200,\n",
    "                4, 4, True, \n",
    "                *['dynamic', 3, 2]),\n",
    "                # nn.LogSoftmax(dim=1),\n",
    "                nn.Flatten(start_dim=1)\n",
    "            )\n",
    "\n",
    "# Define the classifier on top of the ResNet\n",
    "# classifier = nn.Sequential(\n",
    "#     nn.Linear(512, 512, 1),\n",
    "#     nn.ReLU(),\n",
    "#     nn.Linear(512, 512, 1),\n",
    "#     # nn.LogSoftmax(dim=1),\n",
    "#     # nn.Flatten(start_dim=1)\n",
    "# )\n",
    "\n",
    "# # Combine the ResNet and classifier\n",
    "# from torchvision.models import resnet18\n",
    "# resnet = resnet18(pretrained=True)\n",
    "# resnet.fc = nn.Identity()\n",
    "# model = nn.Sequential(resnet, classifier)\n",
    "model = classifier.to(device)\n",
    "# Load the MNIST dataset\n",
    "# train_dataset = Cub2011(mode=\"train\", data_path=\"data/CUB_200_2011\")\n",
    "# valid_dataset = Cub2011(mode=\"val\", data_path=\"data/CUB_200_2011\")\n",
    "\n",
    "# # Set hyperparameters\n",
    "batch_size = 64\n",
    "learning_rate = 0.0001\n",
    "num_epochs = 100\n",
    "\n",
    "# # Create data loaders\n",
    "# train_loader = DataLoader(train_dataset, batch_size=batch_size, shuffle=True)\n",
    "# valid_loader = DataLoader(valid_dataset, batch_size=batch_size, shuffle=False)\n",
    "\n",
    "# Define the loss function and optimizer\n",
    "criterion = nn.CrossEntropyLoss()\n",
    "optimizer = optim.Adam(model.parameters(), lr=learning_rate)\n",
    "\n",
    "max_val = 0\n",
    "# Training loop\n",
    "for epoch in range(num_epochs):\n",
    "    # Training phase\n",
    "    model.train()\n",
    "    train_loss = 0.0\n",
    "    train_correct = 0\n",
    "    total_train_samples = 0\n",
    "\n",
    "    for images, labels in tqdm(train_loader, desc=f\"Epoch {epoch + 1}/ {num_epochs} - Training\"):\n",
    "        \n",
    "        images = images.to(device)\n",
    "        labels = labels.to(device).long()\n",
    "        # print(images, labels)\n",
    "        optimizer.zero_grad()\n",
    "        \n",
    "        # Forward pass\n",
    "        outputs = model(images)\n",
    "        loss = criterion(outputs, labels)\n",
    "\n",
    "        # Backward pass and optimization\n",
    "        loss.backward()\n",
    "        optimizer.step()\n",
    "\n",
    "        # Compute training accuracy\n",
    "        _, predicted = torch.max(outputs.data, 1)\n",
    "        train_correct += (predicted == labels).sum().item()\n",
    "        total_train_samples += labels.size(0)\n",
    "\n",
    "        train_loss += loss.item()\n",
    "\n",
    "    # Compute average training accuracy and loss\n",
    "    train_accuracy = 100.0 * train_correct / total_train_samples\n",
    "    train_loss /= len(train_loader)\n",
    "\n",
    "    # Validation phase\n",
    "    model.eval()\n",
    "    valid_loss = 0.0\n",
    "    valid_correct = 0\n",
    "    total_valid_samples = 0\n",
    "\n",
    "    with torch.no_grad():\n",
    "        for images, labels in tqdm(valid_loader, desc=f\"Epoch {epoch + 1}/ {num_epochs} - Validation\"):\n",
    "            # Forward pass\n",
    "            images = images.to(device)\n",
    "            labels = labels.to(device).long()\n",
    "            outputs = model(images)\n",
    "            loss = criterion(outputs, labels)\n",
    "\n",
    "            # Compute validation accuracy\n",
    "            _, predicted = torch.max(outputs.data, 1)\n",
    "            valid_correct += (predicted == labels).sum().item()\n",
    "            total_valid_samples += labels.size(0)\n",
    "\n",
    "            valid_loss += loss.item()\n",
    "\n",
    "    # Compute average validation accuracy and loss\n",
    "    valid_accuracy = 100.0 * valid_correct / total_valid_samples\n",
    "    valid_loss /= len(valid_loader)\n",
    "    if(valid_accuracy > max_val):\n",
    "        max_val = valid_accuracy\n",
    "    # Print epoch-wise results\n",
    "    print(f\"\\nEpoch {epoch + 1}/{num_epochs}\")\n",
    "    print(f\"Train Loss: {train_loss:.4f} | Train Accuracy: {train_accuracy:.2f}%\")\n",
    "    print(f\"Valid Loss: {valid_loss:.4f} | Valid Accuracy: {valid_accuracy:.2f}%\")\n",
    "print(f\"Max Valid Accuracy: {max_val:.2f}%\")"
   ]
  },
  {
   "attachments": {},
   "cell_type": "markdown",
   "metadata": {},
   "source": [
    "- CUB-resnet-sci-SVM: 0.5904\n",
    "- CUB-resnet-freeze-2hMLP: 0.5856\n",
    "- CUB-resnet-2hMLP: 0.5188\n",
    "- CUB-resnet-sci-MLP: 0.577"
   ]
  }
 ],
 "metadata": {
  "kernelspec": {
   "display_name": "Capsule",
   "language": "python",
   "name": "python3"
  },
  "language_info": {
   "codemirror_mode": {
    "name": "ipython",
    "version": 3
   },
   "file_extension": ".py",
   "mimetype": "text/x-python",
   "name": "python",
   "nbconvert_exporter": "python",
   "pygments_lexer": "ipython3",
   "version": "3.9.16"
  },
  "orig_nbformat": 4
 },
 "nbformat": 4,
 "nbformat_minor": 2
}
